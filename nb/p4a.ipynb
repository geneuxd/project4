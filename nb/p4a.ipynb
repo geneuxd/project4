{
 "cells": [
  {
   "cell_type": "code",
   "execution_count": 1,
   "id": "22e30aa7-3823-4182-a79d-a34e615932ef",
   "metadata": {},
   "outputs": [
    {
     "name": "stdout",
     "output_type": "stream",
     "text": [
      "Configured Capacity: 0 (0 B)\n",
      "Present Capacity: 0 (0 B)\n",
      "DFS Remaining: 0 (0 B)\n",
      "DFS Used: 0 (0 B)\n",
      "DFS Used%: 0.00%\n",
      "Replicated Blocks:\n",
      "\tUnder replicated blocks: 0\n",
      "\tBlocks with corrupt replicas: 0\n",
      "\tMissing blocks: 0\n",
      "\tMissing blocks (with replication factor 1): 0\n",
      "\tLow redundancy blocks with highest priority to recover: 0\n",
      "\tPending deletion blocks: 0\n",
      "Erasure Coded Block Groups: \n",
      "\tLow redundancy block groups: 0\n",
      "\tBlock groups with corrupt internal blocks: 0\n",
      "\tMissing block groups: 0\n",
      "\tLow redundancy blocks with highest priority to recover: 0\n",
      "\tPending deletion blocks: 0\n",
      "\n",
      "-------------------------------------------------\n"
     ]
    }
   ],
   "source": [
    "#q1\n",
    "!hdfs dfsadmin -fs hdfs://boss:9000 -report"
   ]
  },
  {
   "cell_type": "code",
   "execution_count": 2,
   "id": "5a3803d1-c63e-4225-a69d-72d33b794cae",
   "metadata": {},
   "outputs": [
    {
     "name": "stdout",
     "output_type": "stream",
     "text": [
      "--2023-10-26 22:08:42--  https://pages.cs.wisc.edu/~harter/cs544/data/hdma-wi-2021.csv\n",
      "Resolving pages.cs.wisc.edu (pages.cs.wisc.edu)... 128.105.7.9\n",
      "Connecting to pages.cs.wisc.edu (pages.cs.wisc.edu)|128.105.7.9|:443... connected.\n",
      "HTTP request sent, awaiting response... 200 OK\n",
      "Length: 174944099 (167M) [text/csv]\n",
      "Saving to: ‘hdma-wi-2021.csv.1’\n",
      "\n",
      "hdma-wi-2021.csv.1  100%[===================>] 166.84M  87.1MB/s    in 1.9s    \n",
      "\n",
      "2023-10-26 22:08:44 (87.1 MB/s) - ‘hdma-wi-2021.csv.1’ saved [174944099/174944099]\n",
      "\n"
     ]
    }
   ],
   "source": [
    "!wget https://pages.cs.wisc.edu/~harter/cs544/data/hdma-wi-2021.csv"
   ]
  },
  {
   "cell_type": "code",
   "execution_count": 3,
   "id": "44b4dd75-49b2-4a39-88eb-7ebd6b3bdc06",
   "metadata": {},
   "outputs": [
    {
     "name": "stdout",
     "output_type": "stream",
     "text": [
      "hdma-wi-2021.csv  hdma-wi-2021.csv.1  p4.ipynb\tp4b.ipynb\n"
     ]
    }
   ],
   "source": [
    "!ls"
   ]
  },
  {
   "cell_type": "code",
   "execution_count": 4,
   "id": "e834ecf8-5f52-4385-ab73-902a9c1b8215",
   "metadata": {},
   "outputs": [],
   "source": [
    "!rm  hdma-wi-2021.csv.1"
   ]
  },
  {
   "cell_type": "code",
   "execution_count": 5,
   "id": "3b73abcb-2354-4aa5-a7ec-ec9d6a4a0e8f",
   "metadata": {},
   "outputs": [],
   "source": [
    "!hdfs dfs -rm -f hdfs://boss:9000/single.csv\n",
    "!hdfs dfs -rm -f hdfs://boss:9000/double.csv"
   ]
  },
  {
   "cell_type": "code",
   "execution_count": 6,
   "id": "d89c2e10-7995-4bf9-b6f5-3854e09c5cac",
   "metadata": {},
   "outputs": [],
   "source": [
    "# 1 megabyte (MB) = 1,048,576 bytes, source https://kb.iu.edu/d/ackw#:~:text=1%20MB%20is%201%2C024%20kilobytes,1%2C610%20CDs%20worth%20of%20data.\n",
    "!hdfs dfs -D dfs.block.size=1048576 -D dfs.replication=1 -cp hdma-wi-2021.csv hdfs://boss:9000/single.csv"
   ]
  },
  {
   "cell_type": "code",
   "execution_count": 7,
   "id": "0d1c74db-855e-49fd-b331-0085faa4b09a",
   "metadata": {},
   "outputs": [],
   "source": [
    "!hdfs dfs -D dfs.block.size=1048576 -D dfs.replication=2 -cp hdma-wi-2021.csv hdfs://boss:9000/double.csv"
   ]
  },
  {
   "cell_type": "code",
   "execution_count": 8,
   "id": "8ddf0b5e-5e29-4eb3-b457-63d1e37be2cd",
   "metadata": {},
   "outputs": [
    {
     "name": "stdout",
     "output_type": "stream",
     "text": [
      "166.8 M  333.7 M  hdfs://boss:9000/double.csv\n",
      "166.8 M  166.8 M  hdfs://boss:9000/single.csv\n"
     ]
    }
   ],
   "source": [
    "#q2\n",
    "!hdfs dfs -du -h hdfs://boss:9000/"
   ]
  },
  {
   "cell_type": "code",
   "execution_count": 9,
   "id": "5db5f890-1390-4a95-a912-e204ba54e719",
   "metadata": {},
   "outputs": [],
   "source": [
    "import requests"
   ]
  },
  {
   "cell_type": "code",
   "execution_count": 10,
   "id": "a57128dc-6341-4859-86d2-d7c095ddbc88",
   "metadata": {},
   "outputs": [
    {
     "data": {
      "text/plain": [
       "{'FileStatus': {'accessTime': 1698358134184,\n",
       "  'blockSize': 1048576,\n",
       "  'childrenNum': 0,\n",
       "  'fileId': 16386,\n",
       "  'group': 'supergroup',\n",
       "  'length': 174944099,\n",
       "  'modificationTime': 1698358140784,\n",
       "  'owner': 'root',\n",
       "  'pathSuffix': '',\n",
       "  'permission': '644',\n",
       "  'replication': 1,\n",
       "  'storagePolicy': 0,\n",
       "  'type': 'FILE'}}"
      ]
     },
     "execution_count": 10,
     "metadata": {},
     "output_type": "execute_result"
    }
   ],
   "source": [
    "#q3\n",
    "r = requests.get(\"http://boss:9870/webhdfs/v1/single.csv?op=GETFILESTATUS\")\n",
    "r.raise_for_status() # make an exception is not 200 (not success)\n",
    "r.json()"
   ]
  },
  {
   "cell_type": "code",
   "execution_count": 11,
   "id": "2f843205-2ee1-424e-8431-3bbddab6c0da",
   "metadata": {},
   "outputs": [
    {
     "data": {
      "text/plain": [
       "'http://1ee873a76861:9864/webhdfs/v1/single.csv?op=OPEN&namenoderpcaddress=boss:9000&offset=0'"
      ]
     },
     "execution_count": 11,
     "metadata": {},
     "output_type": "execute_result"
    }
   ],
   "source": [
    "#q4\n",
    "# source: https://hadoop.apache.org/docs/r1.0.4/webhdfs.html #OPEN\n",
    "r = requests.get(\"http://boss:9870/webhdfs/v1/single.csv?op=OPEN&offset=0&noredirect=true\")\n",
    "r.raise_for_status() # make an exception is not 200 (not success)\n",
    "r.json()[\"Location\"]"
   ]
  },
  {
   "cell_type": "code",
   "execution_count": 12,
   "id": "f606afee-f976-4732-b194-f1bab4c0f666",
   "metadata": {},
   "outputs": [],
   "source": [
    "# !hdfs dfs -D dfs.block.size=1048576 -D dfs.replication=1 -cp hdma-wi-2021.csv hdfs://boss:9000/single.csv\n",
    "# !hdfs dfs -D dfs.block.size=1048576 -D dfs.replication=2 -cp hdma-wi-2021.csv hdfs://boss:9000/double.csv"
   ]
  },
  {
   "cell_type": "code",
   "execution_count": 13,
   "id": "14529a9f-1a8d-48fb-b175-03d03c111de1",
   "metadata": {},
   "outputs": [
    {
     "name": "stdout",
     "output_type": "stream",
     "text": [
      "{'1ee873a76861': 85, '39d01ba5ab91': 82}\n"
     ]
    }
   ],
   "source": [
    "#q5\n",
    "import requests\n",
    "url = \"http://boss:9870/webhdfs/v1/single.csv?op=OPEN\"\n",
    "container_number_count = dict()\n",
    "\n",
    "\n",
    "for offset in range(0, 174944099, 1048576):\n",
    "    url_with_offset = f\"{url}&offset={offset}\"\n",
    "    r = requests.get(url_with_offset,stream = True)\n",
    "\n",
    "    if r.status_code == 200:\n",
    "        url_array = r.url.split('/')\n",
    "        # print(url_array)\n",
    "        container_id = url_array[2]\n",
    "        container = container_id.split(':')\n",
    "        final_container_id = container[0]\n",
    "        if final_container_id not in container_number_count:\n",
    "            container_number_count[final_container_id] = 1\n",
    "        else:\n",
    "            container_number_count[final_container_id] += 1\n",
    "\n",
    "dict(container_number_count)"
   ]
  },
  {
   "cell_type": "code",
   "execution_count": 14,
   "id": "50368ea1-fbf1-45ae-b08c-6bef384e9bd4",
   "metadata": {
    "scrolled": true
   },
   "outputs": [
    {
     "name": "stderr",
     "output_type": "stream",
     "text": [
      "2023-10-26 22:09:32,009 WARN util.NativeCodeLoader: Unable to load native-hadoop library for your platform... using builtin-java classes where applicable\n"
     ]
    },
    {
     "name": "stdout",
     "output_type": "stream",
     "text": [
      "b'activity_y'\n"
     ]
    }
   ],
   "source": [
    "#q6\n",
    "import pyarrow as pa\n",
    "import pyarrow.fs\n",
    "hdfs = pa.fs.HadoopFileSystem(\"boss\", 9000)\n",
    "\n",
    "with hdfs.open_input_file(\"hdfs://boss:9000/single.csv\") as f:\n",
    "    first_10 = f.read(10)\n",
    "first_10\n",
    "    "
   ]
  },
  {
   "cell_type": "code",
   "execution_count": 15,
   "id": "96e7843e-2be0-4293-9ba7-f98f337d878d",
   "metadata": {},
   "outputs": [
    {
     "name": "stdout",
     "output_type": "stream",
     "text": [
      "444874\n"
     ]
    }
   ],
   "source": [
    "#q7\n",
    "import io\n",
    "hdfs = pa.fs.HadoopFileSystem(\"boss\",9000)\n",
    "\n",
    "with hdfs.open_input_file(\"hdfs://boss:9000/single.csv\") as f:\n",
    "    count = 0\n",
    "    reader = io.TextIOWrapper(io.BufferedReader(f))\n",
    "    for line in reader:\n",
    "        if \"Single Family\" in line:\n",
    "            count += 1\n",
    "\n",
    "count"
   ]
  }
 ],
 "metadata": {
  "kernelspec": {
   "display_name": "Python 3 (ipykernel)",
   "language": "python",
   "name": "python3"
  },
  "language_info": {
   "codemirror_mode": {
    "name": "ipython",
    "version": 3
   },
   "file_extension": ".py",
   "mimetype": "text/x-python",
   "name": "python",
   "nbconvert_exporter": "python",
   "pygments_lexer": "ipython3",
   "version": "3.10.12"
  }
 },
 "nbformat": 4,
 "nbformat_minor": 5
}
