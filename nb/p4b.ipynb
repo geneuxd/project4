{
 "cells": [
  {
   "cell_type": "code",
   "execution_count": 3,
   "id": "0e06e771-f52a-4b85-8866-042c3723cccf",
   "metadata": {},
   "outputs": [
    {
     "name": "stdout",
     "output_type": "stream",
     "text": [
      "Configured Capacity: 25821052928 (24.05 GB)\n",
      "Present Capacity: 19291622229 (17.97 GB)\n",
      "DFS Remaining: 19028799488 (17.72 GB)\n",
      "DFS Used: 262822741 (250.65 MB)\n",
      "DFS Used%: 1.36%\n",
      "Replicated Blocks:\n",
      "\tUnder replicated blocks: 167\n",
      "\tBlocks with corrupt replicas: 0\n",
      "\tMissing blocks: 85\n",
      "\tMissing blocks (with replication factor 1): 85\n",
      "\tLow redundancy blocks with highest priority to recover: 167\n",
      "\tPending deletion blocks: 0\n",
      "Erasure Coded Block Groups: \n",
      "\tLow redundancy block groups: 0\n",
      "\tBlock groups with corrupt internal blocks: 0\n",
      "\tMissing block groups: 0\n",
      "\tLow redundancy blocks with highest priority to recover: 0\n",
      "\tPending deletion blocks: 0\n",
      "\n",
      "-------------------------------------------------\n",
      "Live datanodes (1):\n",
      "\n",
      "Name: 172.19.0.3:9866 (project-4-pizza-dn-1.project-4-pizza_default)\n",
      "Hostname: 39d01ba5ab91\n",
      "Decommission Status : Normal\n",
      "Configured Capacity: 25821052928 (24.05 GB)\n",
      "DFS Used: 262822741 (250.65 MB)\n",
      "Non DFS Used: 6512653483 (6.07 GB)\n",
      "DFS Remaining: 19028799488 (17.72 GB)\n",
      "DFS Used%: 1.02%\n",
      "DFS Remaining%: 73.69%\n",
      "Configured Cache Capacity: 0 (0 B)\n",
      "Cache Used: 0 (0 B)\n",
      "Cache Remaining: 0 (0 B)\n",
      "Cache Used%: 100.00%\n",
      "Cache Remaining%: 0.00%\n",
      "Xceivers: 0\n",
      "Last contact: Thu Oct 26 22:12:54 GMT 2023\n",
      "Last Block Report: Thu Oct 26 22:08:42 GMT 2023\n",
      "Num of Blocks: 249\n",
      "\n",
      "\n",
      "Dead datanodes (1):\n",
      "\n",
      "Name: 172.19.0.5:9866 (172.19.0.5)\n",
      "Hostname: 1ee873a76861\n",
      "Decommission Status : Normal\n",
      "Configured Capacity: 25821052928 (24.05 GB)\n",
      "DFS Used: 266162471 (253.83 MB)\n",
      "Non DFS Used: 6509276889 (6.06 GB)\n",
      "DFS Remaining: 19028836352 (17.72 GB)\n",
      "DFS Used%: 1.03%\n",
      "DFS Remaining%: 73.70%\n",
      "Configured Cache Capacity: 0 (0 B)\n",
      "Cache Used: 0 (0 B)\n",
      "Cache Remaining: 0 (0 B)\n",
      "Cache Used%: 100.00%\n",
      "Cache Remaining%: 0.00%\n",
      "Xceivers: 0\n",
      "Last contact: Thu Oct 26 22:10:30 GMT 2023\n",
      "Last Block Report: Thu Oct 26 22:08:43 GMT 2023\n",
      "Num of Blocks: 0\n",
      "\n",
      "\n"
     ]
    }
   ],
   "source": [
    "#q8\n",
    "!hdfs dfsadmin -fs hdfs://boss:9000 -report"
   ]
  },
  {
   "cell_type": "code",
   "execution_count": 3,
   "id": "e3f77ee7-f281-41ba-8fa0-4089bce82839",
   "metadata": {},
   "outputs": [
    {
     "ename": "KeyboardInterrupt",
     "evalue": "",
     "output_type": "error",
     "traceback": [
      "\u001b[0;31m---------------------------------------------------------------------------\u001b[0m",
      "\u001b[0;31mKeyboardInterrupt\u001b[0m                         Traceback (most recent call last)",
      "Cell \u001b[0;32mIn[3], line 2\u001b[0m\n\u001b[1;32m      1\u001b[0m \u001b[38;5;28;01mimport\u001b[39;00m \u001b[38;5;21;01mtime\u001b[39;00m\n\u001b[0;32m----> 2\u001b[0m \u001b[43mtime\u001b[49m\u001b[38;5;241;43m.\u001b[39;49m\u001b[43msleep\u001b[49m\u001b[43m(\u001b[49m\u001b[38;5;241;43m30\u001b[39;49m\u001b[43m)\u001b[49m\n",
      "\u001b[0;31mKeyboardInterrupt\u001b[0m: "
     ]
    }
   ],
   "source": [
    "import time\n",
    "time.sleep(30)"
   ]
  },
  {
   "cell_type": "code",
   "execution_count": 6,
   "id": "56cd4ed5-5969-4a78-9d16-fec273c2546c",
   "metadata": {},
   "outputs": [
    {
     "name": "stdout",
     "output_type": "stream",
     "text": [
      "cp: `hdfs://boss:9000/single.csv': File exists\n"
     ]
    }
   ],
   "source": [
    "!hdfs dfs -D dfs.block.size=1048576 -D dfs.replication=1 -cp hdma-wi-2021.csv hdfs://boss:9000/single.csv"
   ]
  },
  {
   "cell_type": "code",
   "execution_count": 8,
   "id": "a0d82b8e-e435-4a15-b8e0-03b4059df7a3",
   "metadata": {},
   "outputs": [
    {
     "name": "stdout",
     "output_type": "stream",
     "text": [
      "{'lost': 85, '39d01ba5ab91': 82}\n"
     ]
    }
   ],
   "source": [
    "#q9\n",
    "import requests\n",
    "import pyarrow as pa\n",
    "import pyarrow.fs\n",
    "url = \"http://boss:9870/webhdfs/v1/single.csv?op=OPEN\"\n",
    "container_number_count = dict()\n",
    "\n",
    "\n",
    "for offset in range(0, 174944099, 1048576):\n",
    "    url_with_offset = f\"{url}&offset={offset}\"\n",
    "    r = requests.get(url_with_offset,stream = True)\n",
    "    if r.status_code == 403:\n",
    "        if \"lost\" not in container_number_count:\n",
    "            container_number_count['lost'] = 1\n",
    "        else:\n",
    "            container_number_count['lost'] +=1\n",
    "    if r.status_code == 200:\n",
    "        url_array = r.url.split('/')\n",
    "        # print(url_array)\n",
    "        container_id = url_array[2]\n",
    "        container = container_id.split(':')\n",
    "        final_container_id = container[0]\n",
    "        if final_container_id not in container_number_count:\n",
    "            container_number_count[final_container_id] = 1\n",
    "        else:\n",
    "            container_number_count[final_container_id] += 1\n",
    "\n",
    "print(dict(container_number_count))"
   ]
  },
  {
   "cell_type": "code",
   "execution_count": 39,
   "id": "9e0ab7b3-76be-4659-9d35-2de2f9524ea0",
   "metadata": {
    "scrolled": true
   },
   "outputs": [
    {
     "data": {
      "text/plain": [
       "217970"
      ]
     },
     "execution_count": 39,
     "metadata": {},
     "output_type": "execute_result"
    }
   ],
   "source": [
    "#q10\n",
    "\n",
    "\n",
    "count = 0\n",
    "good_blocks = []\n",
    "url = \"http://boss:9870/webhdfs/v1/single.csv?op=OPEN\"\n",
    "for offset in range(0, 174944099, 1048576):\n",
    "    url_with_offset = f\"{url}&offset={offset}\"\n",
    "    r = requests.get(url_with_offset,stream = True)\n",
    "    if r.status_code == 403:\n",
    "        continue\n",
    "    if r.status_code == 200:\n",
    "        url_array = r.url\n",
    "        good_blocks.append(url_array.split(\"=\")[-1])\n",
    "\n",
    "\n",
    "for i in good_blocks:\n",
    "    hdfs = pa.fs.HadoopFileSystem(\"boss\", 9000)\n",
    "    with hdfs.open_input_file('hdfs://boss:9000/single.csv') as f:\n",
    "        reader = f.read_at(1048576,int(i))\n",
    "        count += str(reader).count(\"Single Family\")\n",
    "count"
   ]
  },
  {
   "cell_type": "code",
   "execution_count": null,
   "id": "56314fff-6a57-428b-99e0-0641dfb6181d",
   "metadata": {},
   "outputs": [],
   "source": []
  }
 ],
 "metadata": {
  "kernelspec": {
   "display_name": "Python 3 (ipykernel)",
   "language": "python",
   "name": "python3"
  },
  "language_info": {
   "codemirror_mode": {
    "name": "ipython",
    "version": 3
   },
   "file_extension": ".py",
   "mimetype": "text/x-python",
   "name": "python",
   "nbconvert_exporter": "python",
   "pygments_lexer": "ipython3",
   "version": "3.10.12"
  }
 },
 "nbformat": 4,
 "nbformat_minor": 5
}
