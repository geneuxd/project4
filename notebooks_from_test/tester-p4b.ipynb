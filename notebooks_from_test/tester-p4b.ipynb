{
 "cells": [
  {
   "cell_type": "code",
   "execution_count": 1,
   "id": "0e06e771-f52a-4b85-8866-042c3723cccf",
   "metadata": {
    "execution": {
     "iopub.execute_input": "2023-10-27T01:08:40.941343Z",
     "iopub.status.busy": "2023-10-27T01:08:40.940633Z",
     "iopub.status.idle": "2023-10-27T01:08:44.327394Z",
     "shell.execute_reply": "2023-10-27T01:08:44.326153Z"
    }
   },
   "outputs": [
    {
     "name": "stdout",
     "output_type": "stream",
     "text": [
      "Configured Capacity: 51642105856 (48.10 GB)\r\n",
      "Present Capacity: 36301266044 (33.81 GB)\r\n",
      "DFS Remaining: 35772280832 (33.32 GB)\r\n",
      "DFS Used: 528985212 (504.48 MB)\r\n",
      "DFS Used%: 1.46%\r\n",
      "Replicated Blocks:\r\n",
      "\tUnder replicated blocks: 0\r\n",
      "\tBlocks with corrupt replicas: 0\r\n",
      "\tMissing blocks: 0\r\n",
      "\tMissing blocks (with replication factor 1): 0\r\n",
      "\tLow redundancy blocks with highest priority to recover: 0\r\n",
      "\tPending deletion blocks: 0\r\n",
      "Erasure Coded Block Groups: \r\n",
      "\tLow redundancy block groups: 0\r\n",
      "\tBlock groups with corrupt internal blocks: 0\r\n",
      "\tMissing block groups: 0\r\n",
      "\tLow redundancy blocks with highest priority to recover: 0\r\n",
      "\tPending deletion blocks: 0\r\n",
      "\r\n",
      "-------------------------------------------------\r\n",
      "Live datanodes (1):\r\n",
      "\r\n",
      "Name: 172.20.0.5:9866 (cs544_tester_directory-dn-2.cs544_tester_directory_default)\r\n",
      "Hostname: 04f80de43ac5\r\n",
      "Decommission Status : Normal\r\n",
      "Configured Capacity: 25821052928 (24.05 GB)\r\n",
      "DFS Used: 273559896 (260.89 MB)\r\n",
      "Non DFS Used: 7644577448 (7.12 GB)\r\n",
      "DFS Remaining: 17886138368 (16.66 GB)\r\n",
      "DFS Used%: 1.06%\r\n",
      "DFS Remaining%: 69.27%\r\n",
      "Configured Cache Capacity: 0 (0 B)\r\n",
      "Cache Used: 0 (0 B)\r\n",
      "Cache Remaining: 0 (0 B)\r\n",
      "Cache Used%: 100.00%\r\n",
      "Cache Remaining%: 0.00%\r\n",
      "Xceivers: 0\r\n",
      "Last contact: Fri Oct 27 01:08:41 GMT 2023\r\n",
      "Last Block Report: Fri Oct 27 01:05:50 GMT 2023\r\n",
      "Num of Blocks: 259\r\n",
      "\r\n",
      "\r\n",
      "Dead datanodes (1):\r\n",
      "\r\n",
      "Name: 172.20.0.4:9866 (172.20.0.4)\r\n",
      "Hostname: 4a6732874b8a\r\n",
      "Decommission Status : Normal\r\n",
      "Configured Capacity: 25821052928 (24.05 GB)\r\n",
      "DFS Used: 255425316 (243.59 MB)\r\n",
      "Non DFS Used: 7662707932 (7.14 GB)\r\n",
      "DFS Remaining: 17886142464 (16.66 GB)\r\n",
      "DFS Used%: 0.99%\r\n",
      "DFS Remaining%: 69.27%\r\n",
      "Configured Cache Capacity: 0 (0 B)\r\n",
      "Cache Used: 0 (0 B)\r\n",
      "Cache Remaining: 0 (0 B)\r\n",
      "Cache Used%: 100.00%\r\n",
      "Cache Remaining%: 0.00%\r\n",
      "Xceivers: 0\r\n",
      "Last contact: Fri Oct 27 01:07:01 GMT 2023\r\n",
      "Last Block Report: Fri Oct 27 01:05:49 GMT 2023\r\n",
      "Num of Blocks: 242\r\n",
      "\r\n",
      "\r\n"
     ]
    }
   ],
   "source": [
    "!hdfs dfsadmin -fs hdfs://boss:9000 -report"
   ]
  },
  {
   "cell_type": "code",
   "execution_count": 2,
   "id": "e3f77ee7-f281-41ba-8fa0-4089bce82839",
   "metadata": {
    "execution": {
     "iopub.execute_input": "2023-10-27T01:08:44.332533Z",
     "iopub.status.busy": "2023-10-27T01:08:44.331855Z",
     "iopub.status.idle": "2023-10-27T01:09:14.368797Z",
     "shell.execute_reply": "2023-10-27T01:09:14.367723Z"
    }
   },
   "outputs": [],
   "source": [
    "import time\n",
    "time.sleep(30)"
   ]
  },
  {
   "cell_type": "code",
   "execution_count": 3,
   "id": "56cd4ed5-5969-4a78-9d16-fec273c2546c",
   "metadata": {
    "execution": {
     "iopub.execute_input": "2023-10-27T01:09:14.375572Z",
     "iopub.status.busy": "2023-10-27T01:09:14.374324Z",
     "iopub.status.idle": "2023-10-27T01:09:17.558976Z",
     "shell.execute_reply": "2023-10-27T01:09:17.557477Z"
    }
   },
   "outputs": [
    {
     "name": "stdout",
     "output_type": "stream",
     "text": [
      "cp: `hdfs://boss:9000/single.csv': File exists\r\n"
     ]
    }
   ],
   "source": [
    "!hdfs dfs -D dfs.block.size=1048576 -D dfs.replication=1 -cp hdma-wi-2021.csv hdfs://boss:9000/single.csv"
   ]
  },
  {
   "cell_type": "code",
   "execution_count": 4,
   "id": "a0d82b8e-e435-4a15-b8e0-03b4059df7a3",
   "metadata": {
    "execution": {
     "iopub.execute_input": "2023-10-27T01:09:17.564323Z",
     "iopub.status.busy": "2023-10-27T01:09:17.563939Z",
     "iopub.status.idle": "2023-10-27T01:09:20.719263Z",
     "shell.execute_reply": "2023-10-27T01:09:20.718048Z"
    }
   },
   "outputs": [
    {
     "name": "stdout",
     "output_type": "stream",
     "text": [
      "{'04f80de43ac5': 92, 'lost': 75}\n"
     ]
    }
   ],
   "source": [
    "import requests\n",
    "import pyarrow as pa\n",
    "import pyarrow.fs\n",
    "url = \"http://boss:9870/webhdfs/v1/single.csv?op=OPEN\"\n",
    "container_number_count = dict()\n",
    "\n",
    "\n",
    "for offset in range(0, 174944099, 1048576):\n",
    "    url_with_offset = f\"{url}&offset={offset}\"\n",
    "    r = requests.get(url_with_offset,stream = True)\n",
    "    if r.status_code == 403:\n",
    "        if \"lost\" not in container_number_count:\n",
    "            container_number_count['lost'] = 1\n",
    "        else:\n",
    "            container_number_count['lost'] +=1\n",
    "    if r.status_code == 200:\n",
    "        url_array = r.url.split('/')\n",
    "        # print(url_array)\n",
    "        container_id = url_array[2]\n",
    "        container = container_id.split(':')\n",
    "        final_container_id = container[0]\n",
    "        if final_container_id not in container_number_count:\n",
    "            container_number_count[final_container_id] = 1\n",
    "        else:\n",
    "            container_number_count[final_container_id] += 1\n",
    "\n",
    "print(dict(container_number_count))"
   ]
  },
  {
   "cell_type": "code",
   "execution_count": 5,
   "id": "9e0ab7b3-76be-4659-9d35-2de2f9524ea0",
   "metadata": {
    "execution": {
     "iopub.execute_input": "2023-10-27T01:09:20.724403Z",
     "iopub.status.busy": "2023-10-27T01:09:20.723185Z",
     "iopub.status.idle": "2023-10-27T01:09:30.539820Z",
     "shell.execute_reply": "2023-10-27T01:09:30.538719Z"
    },
    "scrolled": true
   },
   "outputs": [
    {
     "name": "stderr",
     "output_type": "stream",
     "text": [
      "2023-10-27 01:09:24,401 WARN util.NativeCodeLoader: Unable to load native-hadoop library for your platform... using builtin-java classes where applicable\n"
     ]
    },
    {
     "data": {
      "text/plain": [
       "245344"
      ]
     },
     "execution_count": 5,
     "metadata": {},
     "output_type": "execute_result"
    }
   ],
   "source": [
    "#q10\n",
    "\n",
    "\n",
    "count = 0\n",
    "good_blocks = []\n",
    "url = \"http://boss:9870/webhdfs/v1/single.csv?op=OPEN\"\n",
    "for offset in range(0, 174944099, 1048576):\n",
    "    url_with_offset = f\"{url}&offset={offset}\"\n",
    "    r = requests.get(url_with_offset,stream = True)\n",
    "    if r.status_code == 403:\n",
    "        continue\n",
    "    if r.status_code == 200:\n",
    "        url_array = r.url\n",
    "        good_blocks.append(url_array.split(\"=\")[-1])\n",
    "\n",
    "\n",
    "for i in good_blocks:\n",
    "    hdfs = pa.fs.HadoopFileSystem(\"boss\", 9000)\n",
    "    with hdfs.open_input_file('hdfs://boss:9000/single.csv') as f:\n",
    "        reader = f.read_at(1048576,int(i))\n",
    "        count += str(reader).count(\"Single Family\")\n",
    "count"
   ]
  },
  {
   "cell_type": "code",
   "execution_count": null,
   "id": "56314fff-6a57-428b-99e0-0641dfb6181d",
   "metadata": {},
   "outputs": [],
   "source": []
  }
 ],
 "metadata": {
  "kernelspec": {
   "display_name": "Python 3 (ipykernel)",
   "language": "python",
   "name": "python3"
  },
  "language_info": {
   "codemirror_mode": {
    "name": "ipython",
    "version": 3
   },
   "file_extension": ".py",
   "mimetype": "text/x-python",
   "name": "python",
   "nbconvert_exporter": "python",
   "pygments_lexer": "ipython3",
   "version": "3.10.12"
  }
 },
 "nbformat": 4,
 "nbformat_minor": 5
}
